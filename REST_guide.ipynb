{
 "cells": [
  {
   "cell_type": "markdown",
   "metadata": {},
   "source": [
    "# Using GN2's REST API"
   ]
  },
  {
   "cell_type": "markdown",
   "metadata": {},
   "source": [
    "GN2 has a REST API through which the user can fetch data and perform several analyses.\n",
    "This notebook will include examples for all the currently existing queries, as well as their parameters."
   ]
  },
  {
   "cell_type": "markdown",
   "metadata": {},
   "source": [
    "## Fetching Group/Dataset lists and information"
   ]
  },
  {
   "cell_type": "markdown",
   "metadata": {},
   "source": [
    "First, we'll start with fetching a list of the species included in the GN database."
   ]
  },
  {
   "cell_type": "code",
   "execution_count": 1,
   "metadata": {
    "collapsed": true
   },
   "outputs": [
    {
     "output_type": "display_data",
     "data": "application/json": {
      "json": "data",
     }
    }
   ],
   "source": [
    "%%bash\n",
    "curl http://gn2.genenetwork.org/api/v_pre1/species"
   ]
  }
 ],
 "metadata": {},
 "nbformat": 4,
 "nbformat_minor": 0
}
