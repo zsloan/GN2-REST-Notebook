{
 "cells": [
  {
   "cell_type": "markdown",
   "metadata": {},
   "source": [
    "# Using GN2's REST API"
   ]
  },
  {
   "cell_type": "markdown",
   "metadata": {},
   "source": [
    "GN2 has a REST API through which the user can fetch data and perform several analyses.\n",
    "This notebook will include examples for all the currently existing queries, as well as their parameters."
   ]
  },
  {
   "cell_type": "markdown",
   "metadata": {},
   "source": [
    "First, we'll start with necessary imports (urllib2 to do HTTP requests with Python and IPython.display to format JSON output)."
   ]
  },
  {
   "cell_type": "code",
   "execution_count": 1,
   "metadata": {
    "collapsed": true
   },
   "outputs": [
   ],
   "source": [
    "from urllib.request import urlopen\n",
    "import json\n",
    "import uuid\n",
    "from IPython.core.display import display, HTML"
   ]
  },
  {
   "cell_type": "markdown",
   "metadata": {},
   "source": [
    "We'll also use a function that makes the displayed JSON collapsible, just for easier readability (written by Tarang Shah - https://gist.github.com/t27)."
   ]
  },
  {
   "cell_type": "code",
   "execution_count": 1,
   "metadata": {
    "collapsed": true
   },
   "outputs": [
   ],
   "source": [
    "class RenderJSON(object):\n",
    "    def __init__(self, json_data):\n",
    "        if isinstance(json_data, dict):\n",
    "            self.json_str = json.dumps(json_data)\n",
    "        else:\n",
    "            self.json_str = json_data\n",
    "        self.uuid = str(uuid.uuid4())\n",
    "        # This line is missed out in most of the versions of this script across the web, it is essential for this to work interleaved with print statements\n",
    "        self._ipython_display_()\n",
    "\n",
    "    def _ipython_display_(self, level_to_show=2):\n",
    "        display(HTML('<div id=\"{}\" style=\"height: auto; width:100%;\"></div>'.format(self.uuid)))\n",
    "        display(HTML(\"\"\"<script>\n",
    "        require([\"https://rawgit.com/caldwell/renderjson/master/renderjson.js\"], function() {\n",
    "          renderjson.set_show_to_level(%s)\n",
    "          document.getElementById('%s').appendChild(renderjson(%s))\n",
    "        });</script>\n",
    "        \"\"\" % (level_to_show, self.uuid, self.json_str)))"
   ]
  },
  {
   "cell_type": "markdown",
   "metadata": {},
   "source": [
    "## Fetching Group/Dataset lists and information"
   ]
  },
  {
    "cell_type": "markdown",
    "metadata": {},
    "source": [
     "The following query fetches the list of species available in the GN database:"
    ]
  },
  {
    "cell_type": "code",
    "execution_count": 1,
    "metadata": {
     "collapsed": true
    },
    "outputs": [
    ],
    "source": [
     "response = urlopen(\"http://gn2-zach.genenetwork.org/api/v_pre1/species\")\n",
     "RenderJSON(json.loads(response.read()))"
    ]
  },
  {
    "cell_type": "markdown",
    "metadata": {},
    "source": [
     "You can also get the information for a single species."
    ]
  },
  {
    "cell_type": "code",
    "execution_count": 1,
    "metadata": {
     "collapsed": true
    },
    "outputs": [
    ],
    "source": [
     "response = urlopen(\"http://gn2-zach.genenetwork.org/api/v_pre1/species/mouse\")\n",
     "RenderJSON(json.loads(response.read()))"
    ]
  },
  {
    "cell_type": "markdown",
    "metadata": {},
    "source": [
     "Groups (for example RISets) can also be listed or selected individually in the same way.\n",
     "To retrieve all groups across all species:"
    ]
  },
  {
    "cell_type": "code",
    "execution_count": 1,
    "metadata": {
     "collapsed": true
    },
    "outputs": [
    ],
    "source": [
     "response = urlopen(\"http://gn2-zach.genenetwork.org/api/v_pre1/groups\")\n",
     "RenderJSON(json.loads(response.read()))"
    ]
  },
  {
    "cell_type": "markdown",
    "metadata": {},
    "source": [
     "Or to retrieve all groups for mouse:"
    ]
  },
  {
    "cell_type": "code",
    "execution_count": 1,
    "metadata": {
     "collapsed": true
    },
    "outputs": [
    ],
    "source": [
     "response = urlopen(\"http://gn2-zach.genenetwork.org/api/v_pre1/groups/mouse\")\n",
     "RenderJSON(json.loads(response.read()), level_to_show=1)"
    ]
  },
  {
    "cell_type": "markdown",
    "metadata": {},
    "source": [
     "Individual group information can also be selected (with an optional field to limit the search to a species).\n",
     "To get information on the HSNIH-Palmer rat group:"
    ]
  },
  {
    "cell_type": "code",
    "execution_count": 1,
    "metadata": {
     "collapsed": true
    },
    "outputs": [
    ],
    "source": [
     "response = urlopen(\"http://gn2-zach.genenetwork.org/api/v_pre1/group/rat/HSNIH-Palmer\")\n",
     "RenderJSON(json.loads(response.read()))"
    ]
  },
  {
    "cell_type": "markdown",
    "metadata": {},
    "source": [
     "The same can be done for datasets, but this query is limited to group.\n",
     "To get a list of all datasets in the BXD group:"
    ]
  },
  {
    "cell_type": "code",
    "execution_count": 1,
    "metadata": {
     "collapsed": true
    },
    "outputs": [
    ],
    "source": [
     "response = urlopen(\"http://gn2-zach.genenetwork.org/api/v_pre1/datasets/bxd\")\n",
     "RenderJSON(json.loads(response.read()))"
    ]
  },
  {
    "cell_type": "markdown",
    "metadata": {},
    "source": [
     "To get information on a specific dataset, its Short_Abbreviation (from the previous query) can be used like the following:"
    ]
  },
  {
    "cell_type": "code",
    "execution_count": 1,
    "metadata": {
     "collapsed": true
    },
    "outputs": [
    ],
    "source": [
     "response = urlopen(\"http://gn2-zach.genenetwork.org/api/v_pre1/dataset/bxd/HC_M2_0606_P\")\n",
     "RenderJSON(json.loads(response.read()))"
    ]
  },
  {
    "cell_type": "markdown",
    "metadata": {},
    "source": [
     "Because of some quirks of the GN database, traits other than mRNA expression or genotype traits are treated different.\n",
     "In this case, the user supplies the group name and trait ID (how to fetch these will be described later), and the dataset\n",
     "query returns information about the publication it's from (like the title, description, pubmed_id, etc).\n",
     "\n",
     "For example, to get publication information for BXD phenotype trait 10001:"
    ]
  },
  {
    "cell_type": "code",
    "execution_count": 1,
    "metadata": {
     "collapsed": true
    },
    "outputs": [
    ],
    "source": [
     "response = urlopen(\"http://gn2.genenetwork.org/api/v_pre1/dataset/bxd/10001\")\n",
     "RenderJSON(json.loads(response.read()))"
    ]
  },
  {
    "cell_type": "markdown",
    "metadata": {},
    "source": [
     "Trait information can also be selected by supplying the dataset abbreviation (for all traits) or the dataset abbreviation\n",
     "and trait name (for individual traits). Trait information in this context includes things like the description, position, etc; a\n",
     "separate query gets actual sample/strain data.\n",
     "\n",
     "For example, to fetch information for all of the traits in the HC_M2_0606_P dataset (a BXD hippocampus dataset):"
    ]
  },
  {
    "cell_type": "code",
    "execution_count": 1,
    "metadata": {
     "collapsed": true
    },
    "outputs": [
    ],
    "source": [
     "response = urlopen(\"http://gn2.genenetwork.org/api/v_pre1/traits/HC_M2_0606_P\")\n",
     "RenderJSON(json.loads(response.read()))"
    ]
  },
  {
    "cell_type": "markdown",
    "metadata": {},
    "source": [
     "Or to fetch all the phenotype (non-mRNA expression/genotype) traits for a group, use the group name"
    ]
  },
  {
    "cell_type": "code",
    "execution_count": 1,
    "metadata": {
     "collapsed": true
    },
    "outputs": [
    ],
    "source": [
     "response = urlopen(\"http://gn2.genenetwork.org/api/v_pre1/traits/HXBBXH\")\n",
     "RenderJSON(json.loads(response.read()))"
    ]
  },
  {
    "cell_type": "markdown",
    "metadata": {},
    "source": [
     "Lastly, to view a single tria'ts information (name, gene symbol, description, location, etc):"
    ]
  },
  {
    "cell_type": "code",
    "execution_count": 1,
    "metadata": {
     "collapsed": true
    },
    "outputs": [
    ],
    "source": [
     "response = urlopen(\"http://gn2.genenetwork.org/api/v_pre1/trait/HC_M2_0606_P/1436869_at\")\n",
     "RenderJSON(json.loads(response.read()))"
    ]
  },
  {
    "cell_type": "markdown",
    "metadata": {},
    "source": [
     "## Downloading Sample Data and Genotypes"
    ]
  }
 ],
 "metadata": {
  "kernelspec": {
   "display_name": "Python 3",
   "language": "python",
   "name": "python3"
  },
  "language_info": {
   "codemirror_mode": {
    "name": "ipython",
    "version": 3
   },
   "file_extension": ".py",
   "mimetype": "text/x-python",
   "name": "python",
   "nbconvert_exporter": "python",
   "pygments_lexer": "ipython3",
   "version": "3.4.2"
  }
 },  
 "nbformat": 4,
 "nbformat_minor": 0
}
