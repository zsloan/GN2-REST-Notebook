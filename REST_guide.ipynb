{
 "cells": [
  {
   "cell_type": "markdown",
   "metadata": {},
   "source": [
    "# Using GN2's REST API"
   ]
  },
  {
   "cell_type": "markdown",
   "metadata": {},
   "source": [
    "GN2 has a REST API through which the user can fetch data and perform several analyses.\n",
    "This notebook will include examples for all the currently existing queries, as well as their parameters."
   ]
  },
  {
   "cell_type": "markdown",
   "metadata": {},
   "source": [
    "First, we'll start with necessary imports (urllib2 to do HTTP requests with Python and IPython.display to format JSON output)."
   ]
  },
  {
   "cell_type": "code",
   "execution_count": 1,
   "metadata": {
    "collapsed": true
   },
   "outputs": [
   ],
   "source": [
    "from urllib.request import urlopen\n",
    "import json\n",
    "import uuid\n",
    "from IPython.core.display import display, HTML"
   ]
  },
  {
   "cell_type": "markdown",
   "metadata": {},
   "source": [
    "We'll also use a function that makes the displayed JSON collapsible, just for easier readability (written by Tarang Shah - https://gist.github.com/t27)."
   ]
  },
  {
   "cell_type": "code",
   "execution_count": 1,
   "metadata": {
    "collapsed": true
   },
   "outputs": [
   ],
   "source": [
    "class RenderJSON(object):\n",
    "    def __init__(self, json_data):\n",
    "        if isinstance(json_data, dict):\n",
    "            self.json_str = json.dumps(json_data)\n",
    "        else:\n",
    "            self.json_str = json_data\n",
    "        self.uuid = str(uuid.uuid4())\n",
    "        # This line is missed out in most of the versions of this script across the web, it is essential for this to work interleaved with print statements\n",
    "        # ZS: I removed this because it causes duplicate output\n",
    "        # self._ipython_display_()\n",
    "\n",
    "    def _ipython_display_(self):\n",
    "        display(HTML('<div id=\"{}\" style=\"height: auto; width:100%;\"></div>'.format(self.uuid)))\n",
    "        display(HTML(\"\"\"<script>\n",
    "        require([\"https://rawgit.com/caldwell/renderjson/master/renderjson.js\"], function() {\n",
    "          renderjson.set_show_to_level(2)\n",
    "          document.getElementById('%s').appendChild(renderjson(%s))\n",
    "        });</script>\n",
    "        \"\"\" % (self.uuid, self.json_str)))"
   ]
  },
  {
   "cell_type": "markdown",
   "metadata": {},
   "source": [
    "## Fetching Group/Dataset lists and information"
   ]
  },
  {
    "cell_type": "markdown",
    "metadata": {},
    "source": [
     "The following query fetches the list of species available in the GN database:"
    ]
  },
  {
    "cell_type": "code",
    "execution_count": 1,
    "metadata": {
     "collapsed": true
    },
    "outputs": [
    ],
    "source": [
     "response = urlopen(\"http://gn2-zach.genenetwork.org/api/v_pre1/species\")\n",
     "RenderJSON(json.loads(response.read()))"
    ]
  },
  {
    "cell_type": "markdown",
    "metadata": {},
    "source": [
     "You can also get the information for a single species."
    ]
  },
  {
    "cell_type": "code",
    "execution_count": 1,
    "metadata": {
     "collapsed": true
    },
    "outputs": [
    ],
    "source": [
     "response = urlopen(\"http://gn2-zach.genenetwork.org/api/v_pre1/species/mouse\")\n",
     "RenderJSON(json.loads(response.read()))"
    ]
  },
  {
    "cell_type": "markdown",
    "metadata": {},
    "source": [
     "Groups (for example RISets) can also be listed or selected individually in the same way.\n",
     "To retrieve all groups across all species:"
    ]
  },
  {
    "cell_type": "code",
    "execution_count": 1,
    "metadata": {
     "collapsed": true
    },
    "outputs": [
    ],
    "source": [
     "response = urlopen(\"http://gn2-zach.genenetwork.org/api/v_pre1/groups\")\n",
     "RenderJSON(json.loads(response.read()))"
    ]
  },
  {
    "cell_type": "markdown",
    "metadata": {},
    "source": [
     "Or to retrieve all groups for mouse:"
    ]
  },
  {
    "cell_type": "code",
    "execution_count": 1,
    "metadata": {
     "collapsed": true
    },
    "outputs": [
    ],
    "source": [
     "response = urlopen(\"http://gn2-zach.genenetwork.org/api/v_pre1/mouse/groups\")\n",
     "RenderJSON(json.loads(response.read()), level_to_show=1)"
    ]
  },
  {
    "cell_type": "markdown",
    "metadata": {},
    "source": [
     "Individual group information can also be selected (with an optional field to limit the search to a species).\n",
     "To get information on the HSNIH-Palmer rat group:"
    ]
  },
  {
    "cell_type": "code",
    "execution_count": 1,
    "metadata": {
     "collapsed": true
    },
    "outputs": [
    ],
    "source": [
     "response = urlopen(\"http://gn2-zach.genenetwork.org/api/v_pre1/group/rat/HSNIH-Palmer\")\n",
     "RenderJSON(json.loads(response.read()))"
    ]
  },
  {
    "cell_type": "markdown",
    "metadata": {},
    "source": [
     "The same can be done for datasets, but this query is limited to group.\n",
     "To get a list of all datasets in the BXD group:"
    ]
  },
  {
    "cell_type": "code",
    "execution_count": 1,
    "metadata": {
     "collapsed": true
    },
    "outputs": [
    ],
    "source": [
     "response = urlopen(\"http://gn2-zach.genenetwork.org/api/v_pre1/datasets/bxd\")\n",
     "RenderJSON(json.loads(response.read()))"
    ]
  },
  {
    "cell_type": "markdown",
    "metadata": {},
    "source": [
     "To get information on a specific dataset, its Short_Abbreviation (from the previous query) can be used like the following:"
    ]
  },
  {
    "cell_type": "code",
    "execution_count": 1,
    "metadata": {
     "collapsed": true
    },
    "outputs": [
    ],
    "source": [
     "response = urlopen(\"http://gn2-zach.genenetwork.org/api/v_pre1/dataset/bxd/HC_M2_0606_P\")\n",
     "RenderJSON(json.loads(response.read()))"
    ]
  },
  {
    "cell_type": "markdown",
    "metadata": {},
    "source": [
     "Because of some quirks of the GN database, traits other than mRNA expression or genotype traits are treated different.\n",
     "In this case, the user supplies the group name and trait ID (how to fetch these will be described later), and the dataset\n",
     "query returns information about the publication it's from (like the title, description, pubmed_id, etc).\n",
     "\n",
     "For example, to get publication information for BXD phenotype trait 10001:"
    ]
  },
  {
    "cell_type": "code",
    "execution_count": 1,
    "metadata": {
     "collapsed": true
    },
    "outputs": [
    ],
    "source": [
     "response = urlopen(\"http://gn2.genenetwork.org/api/v_pre1/dataset/bxd/10001\")\n",
     "RenderJSON(json.loads(response.read()))"
    ]
  },
  {
    "cell_type": "markdown",
    "metadata": {},
    "source": [
     "Trait information can also be selected by supplying the dataset abbreviation (for all traits) or the dataset abbreviation\n",
     "and trait name (for individual traits). Trait information in this context includes things like the description, position, etc; a\n",
     "separate query gets actual sample/strain data.\n",
     "\n",
     "For example, to fetch information for all of the traits in the BXD hippocampus dataset HC_M2_0606_P dataset (a BXD hippocampus dataset):"
    ]
  },
  {
    "cell_type": "code",
    "execution_count": 1,
    "metadata": {
     "collapsed": true
    },
    "outputs": [
    ],
    "source": [
     "# Output limited to 50 results for the sake of demonstration\n",
     "response = urlopen(\"http://gn2.genenetwork.org/api/v_pre1/traits/HC_M2_0606_P?limit_to=50\")\n",
     "RenderJSON(json.loads(response.read()))"
    ]
  },
  {
    "cell_type": "markdown",
    "metadata": {},
    "source": [
     "Or to fetch all the phenotype (non-mRNA expression/genotype) traits for a group, use the group name"
    ]
  },
  {
    "cell_type": "code",
    "execution_count": 1,
    "metadata": {
     "collapsed": true
    },
    "outputs": [
    ],
    "source": [
     "response = urlopen(\"http://gn2.genenetwork.org/api/v_pre1/traits/HXBBXH?limit_to=50\")\n",
     "RenderJSON(json.loads(response.read()))"
    ]
  },
  {
    "cell_type": "markdown",
    "metadata": {},
    "source": [
     "Lastly, to view a single tria'ts information (name, gene symbol, description, location, etc):"
    ]
  },
  {
    "cell_type": "code",
    "execution_count": 1,
    "metadata": {
     "collapsed": true
    },
    "outputs": [
    ],
    "source": [
     "response = urlopen(\"http://gn2.genenetwork.org/api/v_pre1/trait/HC_M2_0606_P/1436869_at\")\n",
     "RenderJSON(json.loads(response.read()))"
    ]
  },
  {
    "cell_type": "markdown",
    "metadata": {},
    "source": [
     "## Downloading Sample Data and Genotypes"
    ]
  },
  {
    "cell_type": "markdown",
    "metadata": {},
    "source": [
     "Genotypes can be downloaded in either the .geno format (which is basically like a CSV, with strains/samples as columns and markers as rows) or\n",
     "in BIMBAM format. For several groups (where we received the genotypes directly as BIMBAM), the .geno file is a dummy file, but it should be obvious\n",
     "when that is the case (all genotypes would be the same and markers would just be called \"Marker1, etc\").\n",
     "\n",
     "Below are a couple queries to fetch genotypes in both these formats (in each case they include some formatting to make the output, which would\n",
     "normally be an exported file, more readable)"
    ]
  },
  {
    "cell_type": "code",
    "execution_count": 1,
    "metadata": {
     "collapsed": true
    },
    "outputs": [
    ],
    "source": [
     "response = urlopen(\"http://gn2-zach.genenetwork.org/api/v_pre1/genotypes/BXD.geno?as_text&limit_to=10\")\n",
     "# The replacing is just to make the output in this notebook readable; this query would normally download a file",
     "print(str(response.read()).replace('\\n', '\n').replace('\\t', '\t'))"
    ]
  },
  {
    "cell_type": "code",
    "execution_count": 1,
    "metadata": {
     "collapsed": true
    },
    "outputs": [
    ],
    "source": [
     "response = urlopen(\"http://gn2-zach.genenetwork.org/api/v_pre1/genotypes/LXS.bimbam?as_text&limit_to=10\")\n",
     "print(str(response.read()).replace('\\n', '\n'))"
    ]
  },
  {
    "cell_type": "markdown",
    "metadata": {},
    "source": [
     "Sample data can also be downloaded for a specific dataset.\n",
     "Currently data is downloaded as a CSV file with samples/strains as columns and traits as rows. JSON will be made available in the future.\n",
     "\n",
     "The following would fetch sample data for an AIL mouse hippocampus dataset (limited to first 10 traits in this case). Like with the previous\n",
     "queries a file would normally be downloaded, so some formatting was added to make the output in thie notebook a bit more readable."
    ]
  },
  {
    "cell_type": "code",
    "execution_count": 1,
    "metadata": {
     "collapsed": true
    },
    "outputs": [
    ],
    "source": [
     "response = urlopen(\"http://gn2-zach.genenetwork.org/api/v_pre1/sample_data/UCSD_AIL_HIP_RNA-Seq_0418.csv?limit_to=10\")\n",
     "print(str(response.read()).replace('\\n', '\n'))"
    ]
  },
  {
    "cell_type": "markdown",
    "metadata": {},
    "source": [
     "And this would get phenotype sample data for the HSNIH-Palmer rat group:"
    ]
  },
  {
    "cell_type": "code",
    "execution_count": 1,
    "metadata": {
     "collapsed": true
    },
    "outputs": [
    ],
    "source": [
     "response = urlopen(\"http://gn2-zach.genenetwork.org/api/v_pre1/sample_data/HSNIH-PalmerPublish.csv?limit_to=1\")\n",
     "print(str(response.read()).replace('\\n', '\n'))"
    ]
  },
  {
    "cell_type": "markdown",
    "metadata": {},
    "source": [
     "## Running Analyses"
    ]
  },
  {
    "cell_type": "markdown",
    "metadata": {},
    "source": [
     "### Correlations"
    ]
  },
  {
    "cell_type": "markdown",
    "metadata": {},
    "source": [
     "Correlations can also be returned through the API. The correlation function takes the following parameters:\n",
     "* trait_id (*required*) - ID for trait used for correlation\n",
     "* db (*required*) - DB name for the trait above (this is the Short_Abbreviation listed when you query for datasets)\n",
     "* target_db (*required*) - Target DB name to be correlated against\n",
     "* type - sample (default) | tissue | literature\n",
     "* method - pearson (default) | spearman\n",
     "* return - Number of results to return (default = 500)"
    ]
  },
  {
    "cell_type": "markdown",
    "metadata": {},
    "source": [
     "For example, if I wanted to do a tissue correlation between trait 1427571_at in the BXD Hippocampus dataset with abbreviation\n",
     "HC_M2_0606_P against all BXD phenotype traits, use Spearman Rank method, and return 50 results, I'd use the following query:"
    ]
  },
  {
    "cell_type": "code",
    "execution_count": 1,
    "metadata": {
     "collapsed": true
    },
    "outputs": [
    ],
    "source": [
     "# Note - takes a minute to run\n",
     "response = urlopen(\"http://gn2.genenetwork.org/api/v_pre1/correlation?trait_id=1427571_at&db=HC_M2_0606_P&target_db=BXDPublish&method=spearman&type=tissue&return_count=50\")\n",
     "RenderJSON(json.loads(response.read()))"
    ]
  },
  {
    "cell_type": "markdown",
    "metadata": {},
    "source": [
     "Or if I wanted to do a sample correlation between trait ENSRNOG00000006120 in the HSNIH Prelimbic Cortex dataset with abbreviation\n",
     "HSNIH-Rat-PL-RSeq-0818 against all traits in the same dataset, use Pearson method, and return 50 results, I'd use the following query:"
    ]
  },
  {
    "cell_type": "code",
    "execution_count": 1,
    "metadata": {
     "collapsed": true
    },
    "outputs": [
    ],
    "source": [
     "# Note - takes a minute to run\n",
     "response = urlopen(\"http://gn2.genenetwork.org/api/v_pre1/correlation?trait_id=ENSRNOG00000006120&db=HSNIH-Rat-PL-RSeq-0818&target_db=HSNIH-Rat-PL-RSeq-0818&method=pearson&type=sample&return_count=50\")\n",
     "RenderJSON(json.loads(response.read()))"
    ]
  }
 ],
 "metadata": {
  "kernelspec": {
   "display_name": "Python 3",
   "language": "python",
   "name": "python3"
  },
  "language_info": {
   "codemirror_mode": {
    "name": "ipython",
    "version": 3
   },
   "file_extension": ".py",
   "mimetype": "text/x-python",
   "name": "python",
   "nbconvert_exporter": "python",
   "pygments_lexer": "ipython3",
   "version": "3.4.2"
  }
 },  
 "nbformat": 4,
 "nbformat_minor": 0
}
