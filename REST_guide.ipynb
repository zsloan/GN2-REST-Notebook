{
 "cells": [
  {
   "cell_type": "markdown",
   "metadata": {},
   "source": [
    "# Using GN2's REST API"
   ]
  },
  {
   "cell_type": "markdown",
   "metadata": {},
   "source": [
    "GN2 has a REST API through which the user can fetch data and perform several analyses.\n",
    "This notebook will include examples for all the currently existing queries, as well as their parameters."
   ]
  },
  {
   "cell_type": "markdown",
   "metadata": {},
   "source": [
    "First, we'll start with necessary imports (urllib2 to do HTTP requests with Python and IPython.display to format JSON output)."
   ]
  },
  {
   "cell_type": "code",
   "execution_count": 1,
   "metadata": {
    "collapsed": true
   },
   "outputs": [
    {
     "output_type": "stream",
     "data": {
      "application/json": {
       "json": "data"
      }
     }
    }
   ],
   "source": [
    "import urllib2",
    "import IPython.display"
   ]
  },
  {
   "cell_type": "markdown",
   "metadata": {},
   "source": [
    "## Fetching Group/Dataset lists and information"
   ]
  },
  {
    "cell_type": "markdown",
    "metadata": {},
    "source": [
     "The following query fetches the list of species available in the GN database:"
    ]
  },
  {
    "cell_type": "code",
    "execution_count": 1,
    "metadata": {
     "collapsed": true
    },
    "outputs": [
     {
      "output_type": "stream",
      "data": {
       "application/json": {
        "json": "data"
       }
      }
     }
    ],
    "source": [
     "req = urllib2.Request(\"http://gn2-zach.genenetwork.org/api/v_pre1/species\"",
     "response = urllib2.urlopen(req)",
     "IPython.display.JSON(response.read())"
    ]
   }
 ],
 "metadata": {
  "kernelspec": {
   "display_name": "Python 3",
   "language": "python",
   "name": "python3"
  },
  "language_info": {
   "codemirror_mode": {
    "name": "ipython",
    "version": 3
   },
   "file_extension": ".py",
   "mimetype": "text/x-python",
   "name": "python",
   "nbconvert_exporter": "python",
   "pygments_lexer": "ipython3",
   "version": "3.4.2"
  }
 },  
 "nbformat": 4,
 "nbformat_minor": 0
}
